{
 "nbformat": 4,
 "nbformat_minor": 0,
 "metadata": {
  "colab": {
   "provenance": []
  },
  "kernelspec": {
   "name": "python3",
   "display_name": "Python 3"
  },
  "language_info": {
   "name": "python"
  },
  "accelerator": "GPU",
  "gpuClass": "premium"
 },
 "cells": [
  {
   "cell_type": "markdown",
   "metadata": {
    "id": "view-in-github",
    "colab_type": "text"
   },
   "source": [
    "<a href=\"https://colab.research.google.com/github/google/evojax/blob/main/examples/notebooks/TutorialCallEvoJAXAlgorithmDirectly.ipynb\" target=\"_parent\"><img src=\"https://colab.research.google.com/assets/colab-badge.svg\" alt=\"Open In Colab\"/></a>"
   ]
  },
  {
   "cell_type": "markdown",
   "source": [
    "# How to call EvoJAX algorithm directly\n",
    "\n",
    "In this notebook, we show how to call directly EvoJAX Algorithm, using CMA-ES as an example."
   ],
   "metadata": {
    "id": "x642GwUg76S2"
   }
  },
  {
   "cell_type": "code",
   "source": [
    "! nvidia-smi"
   ],
   "metadata": {
    "id": "rXiUxxjTm1JQ",
    "outputId": "a7f424b8-ebb6-4f0f-c4f6-4349e37dbb53",
    "colab": {
     "base_uri": "https://localhost:8080/"
    }
   },
   "execution_count": 1,
   "outputs": [
    {
     "output_type": "stream",
     "name": "stdout",
     "text": [
      "Mon Feb 20 04:30:14 2023       \n",
      "+-----------------------------------------------------------------------------+\n",
      "| NVIDIA-SMI 510.47.03    Driver Version: 510.47.03    CUDA Version: 11.6     |\n",
      "|-------------------------------+----------------------+----------------------+\n",
      "| GPU  Name        Persistence-M| Bus-Id        Disp.A | Volatile Uncorr. ECC |\n",
      "| Fan  Temp  Perf  Pwr:Usage/Cap|         Memory-Usage | GPU-Util  Compute M. |\n",
      "|                               |                      |               MIG M. |\n",
      "|===============================+======================+======================|\n",
      "|   0  NVIDIA A100-SXM...  Off  | 00000000:00:04.0 Off |                    0 |\n",
      "| N/A   32C    P0    49W / 400W |      0MiB / 40960MiB |      0%      Default |\n",
      "|                               |                      |             Disabled |\n",
      "+-------------------------------+----------------------+----------------------+\n",
      "                                                                               \n",
      "+-----------------------------------------------------------------------------+\n",
      "| Processes:                                                                  |\n",
      "|  GPU   GI   CI        PID   Type   Process name                  GPU Memory |\n",
      "|        ID   ID                                                   Usage      |\n",
      "|=============================================================================|\n",
      "|  No running processes found                                                 |\n",
      "+-----------------------------------------------------------------------------+\n"
     ]
    }
   ]
  },
  {
   "cell_type": "code",
   "execution_count": 2,
   "metadata": {
    "id": "3JUC1uiVzGS6"
   },
   "outputs": [],
   "source": [
    "import sys\n",
    "IN_COLAB = 'google.colab' in sys.modules\n",
    "\n",
    "if IN_COLAB:\n",
    "  ! pip install --upgrade pip\n",
    "  ! pip install --upgrade flax==0.6.1\n",
    "  ! pip install --upgrade evojax\n",
    "else: \n",
    "  ! pip install --upgrade pip\n",
    "  ! pip install --upgrade evojax\n",
    "  ! pip install seaborn\n",
    "\n",
    "from IPython.display import clear_output\n",
    "clear_output()"
   ]
  },
  {
   "cell_type": "code",
   "source": [
    "import jax\n",
    "from jax import numpy as jnp\n",
    "\n",
    "import numpy as np\n",
    "\n",
    "from matplotlib import pyplot as plt\n",
    "import seaborn as sns"
   ],
   "metadata": {
    "id": "vf7ArnQZzPKT"
   },
   "execution_count": 3,
   "outputs": []
  },
  {
   "cell_type": "code",
   "source": [
    "PARAM_SIZE = 2\n",
    "\n",
    "# define evaluation at a single point\n",
    "\n",
    "def f(x: jnp.ndarray) -> jnp.ndarray:\n",
    "  c = jnp.array([+0.3, -0.7])\n",
    "  \n",
    "  # # simple convex funciton\n",
    "  # y = - jnp.sum(jnp.abs(x - c))\n",
    "  # # make it harder:\n",
    "  d = jnp.sum(jnp.abs(x - c))\n",
    "  y = jnp.cos(d) * jnp.exp(-0.1*d)\n",
    "  # so y is maximized when x = c\n",
    "  return y\n",
    "\n",
    "# ... test it\n",
    "_x = jax.random.normal(\n",
    "    key=jax.random.PRNGKey(123), \n",
    "    shape=(PARAM_SIZE,)\n",
    ")\n",
    "print(f'f({_x}) = {f(_x)}')\n",
    "\n",
    "# evalute f in batch\n",
    "f_batch = jax.vmap(f, in_axes=(0,), out_axes=0)\n",
    "\n",
    "# ... test it\n",
    "TEST_BATCH_SIZE = 3\n",
    "_x_batch = jax.random.normal(\n",
    "    key=jax.random.PRNGKey(123), \n",
    "    shape=(TEST_BATCH_SIZE, PARAM_SIZE,)\n",
    ")\n",
    "print(f'f_batch(\\n{_x_batch}\\n) = \\n{f_batch(_x_batch)}')"
   ],
   "metadata": {
    "colab": {
     "base_uri": "https://localhost:8080/"
    },
    "id": "OwB3qq2kzv66",
    "outputId": "f8c34d65-1aed-484c-e763-a86d79705477"
   },
   "execution_count": 57,
   "outputs": [
    {
     "output_type": "stream",
     "name": "stdout",
     "text": [
      "f([-0.03049826  0.49289012]) = 0.040693823248147964\n",
      "f_batch(\n",
      "[[-0.29256076 -0.2805558 ]\n",
      " [-0.78786534 -0.90408975]\n",
      " [ 0.89289093  0.75706756]]\n",
      ") = \n",
      "[ 0.4791347   0.2418831  -0.37558314]\n"
     ]
    }
   ]
  },
  {
   "cell_type": "code",
   "source": [
    "from evojax.algo import PGPE, CMA_ES_JAX"
   ],
   "metadata": {
    "id": "9ZITYoam0m5A"
   },
   "execution_count": 58,
   "outputs": []
  },
  {
   "cell_type": "code",
   "source": [
    "n_population = 128\n",
    "n_feature = PARAM_SIZE\n",
    "n_iterations = 40\n",
    "report_interval = 1"
   ],
   "metadata": {
    "id": "X-4GFXmK8PJd"
   },
   "execution_count": 59,
   "outputs": []
  },
  {
   "cell_type": "code",
   "source": [
    "#@title CMA ES without particular initilization\n",
    "\n",
    "solver = CMA_ES_JAX(\n",
    "  pop_size=n_population,\n",
    "  param_size=n_feature,\n",
    "  init_stdev=0.1,\n",
    ")\n",
    "\n",
    "have_printed = False\n",
    "recorded_best_fitness_no_init = []\n",
    "\n",
    "for iter_ in range(1, 1 + n_iterations):\n",
    "  solutions = solver.ask() \n",
    "  fitnesses = f_batch(solutions)\n",
    "  solver.tell(fitnesses)\n",
    "\n",
    "  if iter_ % report_interval == 0 or iter_ == 1 or iter_ == n_iterations:\n",
    "    best_solutions = jnp.expand_dims(solver.best_params, axis=0)\n",
    "    best_fitnesses = f_batch(best_solutions)\n",
    "    recorded_best_fitness_no_init.append(\n",
    "        np.array(best_fitnesses)[0]\n",
    "    )\n",
    "\n",
    "    if not have_printed:\n",
    "      have_printed = True\n",
    "      print(f'solutions.shape = {solutions.shape}')\n",
    "      print(f'fitnesses.shape = {fitnesses.shape}')\n",
    "      print(f'best_solutions.shape = {best_solutions.shape}')\n",
    "\n",
    "    print(f'f_batch({best_solutions}) = {best_fitnesses}')"
   ],
   "metadata": {
    "colab": {
     "base_uri": "https://localhost:8080/"
    },
    "id": "wKFjDqCb2mz9",
    "outputId": "c672c2d3-02e3-4abe-dc1d-e47ece633ccc"
   },
   "execution_count": 60,
   "outputs": [
    {
     "output_type": "stream",
     "name": "stdout",
     "text": [
      "solutions.shape = (128, 2)\n",
      "fitnesses.shape = (128,)\n",
      "best_solutions.shape = (1, 2)\n",
      "f_batch([[ 0.08474442 -0.073248  ]]) = [0.6121875]\n",
      "f_batch([[ 0.17500642 -0.15183967]]) = [0.7309605]\n",
      "f_batch([[ 0.3509241  -0.40125412]]) = [0.9072026]\n",
      "f_batch([[ 0.39421523 -0.58534455]]) = [0.95804447]\n",
      "f_batch([[ 0.32162884 -0.6903529 ]]) = [0.9963898]\n",
      "f_batch([[ 0.3269463 -0.7115207]]) = [0.9954238]\n",
      "f_batch([[ 0.3014449 -0.7109104]]) = [0.998689]\n",
      "f_batch([[ 0.29477358 -0.69933814]]) = [0.99939406]\n",
      "f_batch([[ 0.2975316 -0.6987489]]) = [0.9996212]\n",
      "f_batch([[ 0.29991594 -0.6995431 ]]) = [0.9999458]\n",
      "f_batch([[ 0.29953265 -0.7003363 ]]) = [0.99991935]\n",
      "f_batch([[ 0.2997769 -0.7002779]]) = [0.99994975]\n",
      "f_batch([[ 0.2999973 -0.6999719]]) = [0.9999969]\n",
      "f_batch([[ 0.30000764 -0.6999761 ]]) = [0.9999969]\n",
      "f_batch([[ 0.30001923 -0.69999397]]) = [0.9999975]\n",
      "f_batch([[ 0.29999873 -0.70000386]]) = [0.99999946]\n",
      "f_batch([[ 0.30000415 -0.70000184]]) = [0.99999934]\n",
      "f_batch([[ 0.30000073 -0.70000076]]) = [0.9999999]\n",
      "f_batch([[ 0.30000108 -0.6999995 ]]) = [0.9999999]\n",
      "f_batch([[ 0.29999998 -0.7000002 ]]) = [1.]\n",
      "f_batch([[ 0.2999999 -0.6999999]]) = [1.]\n",
      "f_batch([[ 0.29999992 -0.6999999 ]]) = [1.]\n",
      "f_batch([[ 0.29999995 -0.7       ]]) = [1.]\n",
      "f_batch([[ 0.29999995 -0.7000001 ]]) = [1.]\n",
      "f_batch([[ 0.29999992 -0.7000001 ]]) = [1.]\n",
      "f_batch([[ 0.29999995 -0.7000001 ]]) = [1.]\n",
      "f_batch([[ 0.30000004 -0.70000005]]) = [1.]\n",
      "f_batch([[ 0.30000007 -0.7       ]]) = [1.]\n",
      "f_batch([[ 0.3000001 -0.7      ]]) = [1.]\n",
      "f_batch([[ 0.30000007 -0.7       ]]) = [1.]\n",
      "f_batch([[ 0.30000004 -0.7       ]]) = [1.]\n",
      "f_batch([[ 0.3 -0.7]]) = [1.]\n",
      "f_batch([[ 0.3 -0.7]]) = [1.]\n",
      "f_batch([[ 0.29999998 -0.7       ]]) = [1.]\n",
      "f_batch([[ 0.29999992 -0.7       ]]) = [1.]\n",
      "f_batch([[ 0.2999999  -0.70000005]]) = [1.]\n",
      "f_batch([[ 0.2999999 -0.7000001]]) = [1.]\n",
      "f_batch([[ 0.29999995 -0.70000005]]) = [1.]\n",
      "f_batch([[ 0.29999992 -0.7000001 ]]) = [1.]\n",
      "f_batch([[ 0.29999992 -0.70000005]]) = [1.]\n"
     ]
    }
   ]
  },
  {
   "cell_type": "code",
   "source": [
    "#@title CMA ES with initilization\n",
    "n_population = 128\n",
    "n_feature = PARAM_SIZE\n",
    "n_iterations = 40\n",
    "report_interval = 1\n",
    "\n",
    "solver = CMA_ES_JAX(\n",
    "  pop_size=n_population,\n",
    "  param_size=n_feature,\n",
    "  mean=jnp.array([0.35, -0.65]),\n",
    "  init_stdev=0.1,\n",
    ")\n",
    "\n",
    "have_printed = False\n",
    "recorded_best_fitness_with_init = []\n",
    "\n",
    "for iter_ in range(1, 1 + n_iterations):\n",
    "  solutions = solver.ask() \n",
    "  fitnesses = f_batch(solutions)\n",
    "  solver.tell(fitnesses)\n",
    "\n",
    "  if iter_ % report_interval == 0 or iter_ == 1 or iter_ == n_iterations:\n",
    "    best_solutions = jnp.expand_dims(solver.best_params, axis=0)\n",
    "    best_fitnesses = f_batch(best_solutions)\n",
    "    recorded_best_fitness_with_init.append(\n",
    "        np.array(best_fitnesses)[0]\n",
    "    )\n",
    "\n",
    "    if not have_printed:\n",
    "      have_printed = True\n",
    "      print(f'solutions.shape = {solutions.shape}')\n",
    "      print(f'fitnesses.shape = {fitnesses.shape}')\n",
    "      print(f'best_solutions.shape = {best_solutions.shape}')\n",
    "\n",
    "    print(f'f_batch({best_solutions}) = {best_fitnesses}')\n"
   ],
   "metadata": {
    "colab": {
     "base_uri": "https://localhost:8080/"
    },
    "id": "5mckL7OD2uLK",
    "outputId": "6201242f-408e-4726-aea1-f865dd0e0ca5"
   },
   "execution_count": 61,
   "outputs": [
    {
     "output_type": "stream",
     "name": "stdout",
     "text": [
      "solutions.shape = (128, 2)\n",
      "fitnesses.shape = (128,)\n",
      "best_solutions.shape = (1, 2)\n",
      "f_batch([[ 0.30595613 -0.6888452 ]]) = [0.99814427]\n",
      "f_batch([[ 0.29828358 -0.6956377 ]]) = [0.99937385]\n",
      "f_batch([[ 0.2994544 -0.7001903]]) = [0.9999261]\n",
      "f_batch([[ 0.29997295 -0.70111954]]) = [0.9998847]\n",
      "f_batch([[ 0.29916427 -0.7002495 ]]) = [0.99989086]\n",
      "f_batch([[ 0.3000644 -0.7009134]]) = [0.9999017]\n",
      "f_batch([[ 0.3001192  -0.70024765]]) = [0.9999633]\n",
      "f_batch([[ 0.29999012 -0.7001805 ]]) = [0.9999809]\n",
      "f_batch([[ 0.3000445  -0.70005876]]) = [0.9999897]\n",
      "f_batch([[ 0.30002174 -0.7000235 ]]) = [0.99999547]\n",
      "f_batch([[ 0.29999495 -0.7000103 ]]) = [0.99999845]\n",
      "f_batch([[ 0.30000436 -0.70000714]]) = [0.99999887]\n",
      "f_batch([[ 0.3000021  -0.69999635]]) = [0.99999946]\n",
      "f_batch([[ 0.30000085 -0.6999991 ]]) = [0.99999976]\n",
      "f_batch([[ 0.29999956 -0.6999996 ]]) = [0.9999999]\n",
      "f_batch([[ 0.3       -0.6999999]]) = [1.]\n",
      "f_batch([[ 0.29999992 -0.6999999 ]]) = [1.]\n",
      "f_batch([[ 0.30000007 -0.6999999 ]]) = [1.]\n",
      "f_batch([[ 0.29999995 -0.69999987]]) = [1.]\n",
      "f_batch([[ 0.3        -0.69999987]]) = [1.]\n",
      "f_batch([[ 0.30000004 -0.7       ]]) = [1.]\n",
      "f_batch([[ 0.3000001 -0.7      ]]) = [1.]\n",
      "f_batch([[ 0.30000016 -0.7       ]]) = [1.]\n",
      "f_batch([[ 0.3000001 -0.7      ]]) = [1.]\n",
      "f_batch([[ 0.30000004 -0.70000005]]) = [1.]\n",
      "f_batch([[ 0.3        -0.70000005]]) = [1.]\n",
      "f_batch([[ 0.30000004 -0.7       ]]) = [1.]\n",
      "f_batch([[ 0.30000007 -0.7       ]]) = [1.]\n",
      "f_batch([[ 0.30000004 -0.7       ]]) = [1.]\n",
      "f_batch([[ 0.3 -0.7]]) = [1.]\n",
      "f_batch([[ 0.29999998 -0.7       ]]) = [1.]\n",
      "f_batch([[ 0.29999995 -0.7       ]]) = [1.]\n",
      "f_batch([[ 0.29999995 -0.7       ]]) = [1.]\n",
      "f_batch([[ 0.29999992 -0.7       ]]) = [1.]\n",
      "f_batch([[ 0.2999999  -0.70000005]]) = [1.]\n",
      "f_batch([[ 0.29999992 -0.7000001 ]]) = [1.]\n",
      "f_batch([[ 0.29999995 -0.70000017]]) = [1.]\n",
      "f_batch([[ 0.29999995 -0.7000001 ]]) = [1.]\n",
      "f_batch([[ 0.29999995 -0.70000017]]) = [1.]\n",
      "f_batch([[ 0.29999992 -0.7000001 ]]) = [1.]\n"
     ]
    }
   ]
  },
  {
   "cell_type": "code",
   "source": [
    "plt.plot(recorded_best_fitness_no_init, label='w/o init')\n",
    "plt.plot(recorded_best_fitness_with_init, label='w/ init')\n",
    "plt.legend()\n",
    "plt.title('Curve for best fitness')\n",
    "plt.show()"
   ],
   "metadata": {
    "id": "Lo3jBjzS6xNZ",
    "colab": {
     "base_uri": "https://localhost:8080/",
     "height": 281
    },
    "outputId": "1864552e-d1df-4d2d-b6ff-fc279416c5ae"
   },
   "execution_count": 62,
   "outputs": [
    {
     "output_type": "display_data",
     "data": {
      "text/plain": [
       "<Figure size 432x288 with 1 Axes>"
      ],
      "image/png": "[encoded data removed]"
     },
     "metadata": {
      "needs_background": "light"
     }
    }
   ]
  },
  {
   "cell_type": "code",
   "source": [],
   "metadata": {
    "id": "MGgaMJAw8iYc"
   },
   "execution_count": 56,
   "outputs": []
  }
 ]
}
